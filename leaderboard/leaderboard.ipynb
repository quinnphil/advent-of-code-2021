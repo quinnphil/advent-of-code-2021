{
 "cells": [
  {
   "cell_type": "markdown",
   "id": "9ef3bc17-26e2-49b8-bded-c042702635e7",
   "metadata": {},
   "source": [
    "Leaderboard\n",
    "===========\n",
    "\n",
    "Basic analysis and stats for private leaderboards.\n",
    "\n",
    "Private leaderboards are available at the url in the form:  \n",
    "https://adventofcode.com/2021/leaderboard/private/view/{leaderboard_id}.json\n",
    "\n",
    "### Instructions  \n",
    "1) Visit your private leaderboard at the json link  \n",
    "2) Save the json to the json folder  \n",
    "3) Update the path_leaderboard to point to the leaderboard json file"
   ]
  },
  {
   "cell_type": "code",
   "execution_count": null,
   "id": "6917227f-5eee-47bd-b426-1edb2c2e301b",
   "metadata": {},
   "outputs": [],
   "source": [
    "import pandas as pd\n",
    "import matplotlib.pyplot as plt\n",
    "import json"
   ]
  },
  {
   "cell_type": "code",
   "execution_count": null,
   "id": "597838cb-a1a2-4c85-bbce-6f7adbb08dfe",
   "metadata": {},
   "outputs": [],
   "source": [
    "path_leaderboard = 'json/1491207_20211206.json'\n",
    "with open (path_leaderboard, 'r') as fh:\n",
    "    data = json.load(fh)\n"
   ]
  },
  {
   "cell_type": "code",
   "execution_count": null,
   "id": "64a65437-86ea-4704-b7ef-cba6fa31bd76",
   "metadata": {},
   "outputs": [],
   "source": [
    "# Members\n",
    "members = []\n",
    "for member_id in data['members']:\n",
    "    member_name = data['members'][member_id].get('name')\n",
    "    member_local_score = data['members'][member_id].get('local_score')\n",
    "    member = {\n",
    "        \"name\": member_name,\n",
    "        \"id\": member_id,\n",
    "        \"local_score\": member_local_score\n",
    "    }\n",
    "    members.append(member)\n",
    "\n",
    "df_members = pd.DataFrame.from_dict(members)\n",
    "df_members.sort_values(['local_score'], ascending=False)\n",
    "\n",
    "member_count = df_members['id'].nunique()\n",
    "\n",
    "member_count"
   ]
  },
  {
   "cell_type": "code",
   "execution_count": null,
   "id": "cd69a1a9-75da-4d30-8901-6b2a225a99b1",
   "metadata": {},
   "outputs": [],
   "source": [
    "# Scores\n",
    "scores = []\n",
    "\n",
    "for member in data['members']:\n",
    "\n",
    "    \n",
    "    for day in data['members'][member].get('completion_day_level'):\n",
    "\n",
    "        \n",
    "        for star in data['members'][member].get('completion_day_level',{0: {}}).get(day, {}):\n",
    "            scores.append({\n",
    "                'id': member, \n",
    "                'name': data['members'][member].get('name'),\n",
    "                'day': day,\n",
    "                'star': star,\n",
    "                'ts': data['members'][member].get('completion_day_level').get(day).get(star)['get_star_ts']\n",
    "            })\n",
    "\n",
    "df_scores = pd.DataFrame.from_dict(scores)\n",
    "df_scores"
   ]
  },
  {
   "cell_type": "code",
   "execution_count": null,
   "id": "d1ea6d39-aa30-40e2-af92-c40037035d55",
   "metadata": {},
   "outputs": [],
   "source": [
    "df_scores['time'] = df_scores['ts'].apply(lambda x: pd.to_datetime(x, unit='s'))\n",
    "df_scores[df_scores['day'] == '6'].sort_values(['time'])"
   ]
  },
  {
   "cell_type": "code",
   "execution_count": null,
   "id": "8f2a5733-a00a-4751-bb47-d080e78c0b29",
   "metadata": {},
   "outputs": [],
   "source": [
    "# Calculate points\n",
    "df_scores[\"part_rank\"] = df_scores.groupby(['day', 'star'])[\"ts\"].rank(\"dense\", ascending=True).astype('int')\n",
    "df_scores[\"points\"] = df_scores['part_rank'].apply(lambda x: (member_count + 1) - x).astype('int')\n",
    "df_scores[df_scores['day'] == '6'].sort_values(['time'], ascending=True)"
   ]
  },
  {
   "cell_type": "code",
   "execution_count": null,
   "id": "2d345422-339a-4df0-a734-72f8e5d15d97",
   "metadata": {},
   "outputs": [],
   "source": [
    "# Cumulative points over time\n",
    "df_scores['c_points'] = df_scores.sort_values(['ts']).groupby(['id'])['points'].cumsum()"
   ]
  },
  {
   "cell_type": "code",
   "execution_count": null,
   "id": "27dafd2d-21d7-406c-be0c-560ee3d79b85",
   "metadata": {},
   "outputs": [],
   "source": [
    "df_scores.sort_values(['c_points'], ascending=False).head(10)"
   ]
  },
  {
   "cell_type": "code",
   "execution_count": null,
   "id": "31de9f97-72a7-47c4-b2ac-3dbc57a8c045",
   "metadata": {},
   "outputs": [],
   "source": [
    "# Leaderboard\n",
    "df_scores.groupby(df_scores['name'])['c_points'].max().sort_values(ascending=False)"
   ]
  },
  {
   "cell_type": "code",
   "execution_count": null,
   "id": "450790f5-3173-4f18-baf6-60b7dbf30ffa",
   "metadata": {},
   "outputs": [],
   "source": [
    "# When does a member submit Part 2 by?\n",
    "\n",
    "def time_in_seconds(dt):\n",
    "    midnight = dt.replace(hour=5, minute=0, second=0, microsecond=0)\n",
    "    seconds = (dt - midnight).seconds    \n",
    "    return seconds\n",
    "\n",
    "df_scores['time_seconds'] = df_scores['time'].apply(lambda x: time_in_seconds(x))\n",
    "df_scores[df_scores['star'] == '2'].groupby(['name'])['time_seconds'].min().apply(lambda x: pd.Timedelta(seconds=x + 5 * 60 * 60)).sort_values()"
   ]
  },
  {
   "cell_type": "code",
   "execution_count": null,
   "id": "12177f87-8287-49ec-b713-4a0369d53086",
   "metadata": {},
   "outputs": [],
   "source": [
    "df_scores[df_scores['star'] == '2']"
   ]
  }
 ],
 "metadata": {
  "kernelspec": {
   "display_name": "Python 3 (ipykernel)",
   "language": "python",
   "name": "python3"
  },
  "language_info": {
   "codemirror_mode": {
    "name": "ipython",
    "version": 3
   },
   "file_extension": ".py",
   "mimetype": "text/x-python",
   "name": "python",
   "nbconvert_exporter": "python",
   "pygments_lexer": "ipython3",
   "version": "3.8.10"
  }
 },
 "nbformat": 4,
 "nbformat_minor": 5
}

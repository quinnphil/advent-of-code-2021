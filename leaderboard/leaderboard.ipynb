{
 "cells": [
  {
   "cell_type": "markdown",
   "id": "9ef3bc17-26e2-49b8-bded-c042702635e7",
   "metadata": {},
   "source": [
    "Leaderboard\n",
    "===========\n",
    "\n",
    "Displays a graph of submissions over time for a private leaderboard.\n",
    "\n",
    "Private leaderboards are available at the url in the form:  \n",
    "https://adventofcode.com/2021/leaderboard/private/view/{leaderboard_id}.json\n",
    "\n",
    "### Instructions\n",
    "1) Visit your private leaderboard at the json link\n",
    "2) Save the json to the json folder"
   ]
  },
  {
   "cell_type": "code",
   "execution_count": 2,
   "id": "6917227f-5eee-47bd-b426-1edb2c2e301b",
   "metadata": {},
   "outputs": [],
   "source": [
    "import pandas as pd\n",
    "import matplotlib.pyplot as plt\n",
    "import json"
   ]
  },
  {
   "cell_type": "code",
   "execution_count": null,
   "id": "597838cb-a1a2-4c85-bbce-6f7adbb08dfe",
   "metadata": {},
   "outputs": [],
   "source": [
    "path_leaderboard = 'json/1491207_20211204.json'\n",
    "with open (path_leaderboard, 'r') as fh:\n",
    "    data = json.load(fh)\n"
   ]
  },
  {
   "cell_type": "code",
   "execution_count": null,
   "id": "cd69a1a9-75da-4d30-8901-6b2a225a99b1",
   "metadata": {},
   "outputs": [],
   "source": [
    "scores = []\n",
    "\n",
    "for member in data['members']:\n",
    "\n",
    "    \n",
    "    scores.append({\n",
    "        'member': member, \n",
    "        'name': data['members'][member].get('name'),\n",
    "        'day': day,\n",
    "        'star': star,\n",
    "        'ts': data['members'][member].get('completion_day_level').get(day).get(star)['get_star_ts']\n",
    "    })\n",
    "    \n",
    "    for day in data['members'][member].get('completion_day_level'):\n",
    "\n",
    "        \n",
    "        for star in data['members'][member].get('completion_day_level',{0: {}}).get(day, {}):\n",
    "            scores.append({\n",
    "                'member': member, \n",
    "                'name': data['members'][member].get('name'),\n",
    "                'day': day,\n",
    "                'star': star,\n",
    "                'ts': data['members'][member].get('completion_day_level').get(day).get(star)['get_star_ts']\n",
    "            })\n",
    "\n",
    "df_lb = pd.DataFrame.from_dict(scores)\n",
    "df_lb"
   ]
  },
  {
   "cell_type": "code",
   "execution_count": null,
   "id": "d1ea6d39-aa30-40e2-af92-c40037035d55",
   "metadata": {},
   "outputs": [],
   "source": [
    "df_lb['time'] = df_lb['ts'].apply(lambda x: pd.to_datetime(x, unit='s'))\n",
    "df_lb[df_lb['day'] == '4'].sort_values(['time'])"
   ]
  },
  {
   "cell_type": "code",
   "execution_count": 5,
   "id": "8f2a5733-a00a-4751-bb47-d080e78c0b29",
   "metadata": {},
   "outputs": [
    {
     "data": {
      "text/plain": [
       "5"
      ]
     },
     "execution_count": 5,
     "metadata": {},
     "output_type": "execute_result"
    }
   ],
   "source": [
    "2+3"
   ]
  }
 ],
 "metadata": {
  "kernelspec": {
   "display_name": "Python 3 (ipykernel)",
   "language": "python",
   "name": "python3"
  },
  "language_info": {
   "codemirror_mode": {
    "name": "ipython",
    "version": 3
   },
   "file_extension": ".py",
   "mimetype": "text/x-python",
   "name": "python",
   "nbconvert_exporter": "python",
   "pygments_lexer": "ipython3",
   "version": "3.8.10"
  }
 },
 "nbformat": 4,
 "nbformat_minor": 5
}

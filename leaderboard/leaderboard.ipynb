{
 "cells": [
  {
   "cell_type": "markdown",
   "id": "9ef3bc17-26e2-49b8-bded-c042702635e7",
   "metadata": {},
   "source": [
    "Leaderboard\n",
    "===========\n",
    "\n",
    "Basic analysis and stats for private leaderboards.\n",
    "\n",
    "Private leaderboards are available at the url in the form:  \n",
    "https://adventofcode.com/2021/leaderboard/private/view/{leaderboard_id}.json\n",
    "\n",
    "### Instructions  \n",
    "1) Visit your private leaderboard at the json link  \n",
    "2) Save the json to the json folder  \n",
    "3) Update the path_leaderboard to point to the leaderboard json file"
   ]
  },
  {
   "cell_type": "code",
   "execution_count": null,
   "id": "6917227f-5eee-47bd-b426-1edb2c2e301b",
   "metadata": {},
   "outputs": [],
   "source": [
    "import pandas as pd\n",
    "import matplotlib.pyplot as plt\n",
    "import json"
   ]
  },
  {
   "cell_type": "code",
   "execution_count": null,
   "id": "597838cb-a1a2-4c85-bbce-6f7adbb08dfe",
   "metadata": {},
   "outputs": [],
   "source": [
    "path_leaderboard = 'json/1491207_20211205.json'\n",
    "with open (path_leaderboard, 'r') as fh:\n",
    "    data = json.load(fh)\n"
   ]
  },
  {
   "cell_type": "code",
   "execution_count": null,
   "id": "64a65437-86ea-4704-b7ef-cba6fa31bd76",
   "metadata": {},
   "outputs": [],
   "source": [
    "# Members\n",
    "members = []\n",
    "for member_id in data['members']:\n",
    "    member_name = data['members'][member_id].get('name')\n",
    "    member_local_score = data['members'][member_id].get('local_score')\n",
    "    member = {\n",
    "        \"name\": member_name,\n",
    "        \"id\": member_id,\n",
    "        \"local_score\": member_local_score\n",
    "    }\n",
    "    members.append(member)\n",
    "\n",
    "df_members = pd.DataFrame.from_dict(members)\n",
    "df_members.sort_values(['local_score'], ascending=False)\n",
    "\n",
    "member_count = df_members['id'].nunique()\n",
    "\n",
    "member_count"
   ]
  },
  {
   "cell_type": "code",
   "execution_count": null,
   "id": "cd69a1a9-75da-4d30-8901-6b2a225a99b1",
   "metadata": {},
   "outputs": [],
   "source": [
    "# Scores\n",
    "scores = []\n",
    "\n",
    "for member in data['members']:\n",
    "\n",
    "    \n",
    "    for day in data['members'][member].get('completion_day_level'):\n",
    "\n",
    "        \n",
    "        for star in data['members'][member].get('completion_day_level',{0: {}}).get(day, {}):\n",
    "            scores.append({\n",
    "                'id': member, \n",
    "                'name': data['members'][member].get('name'),\n",
    "                'day': day,\n",
    "                'star': star,\n",
    "                'ts': data['members'][member].get('completion_day_level').get(day).get(star)['get_star_ts']\n",
    "            })\n",
    "\n",
    "df_scores = pd.DataFrame.from_dict(scores)\n",
    "df_scores"
   ]
  },
  {
   "cell_type": "code",
   "execution_count": null,
   "id": "d1ea6d39-aa30-40e2-af92-c40037035d55",
   "metadata": {},
   "outputs": [],
   "source": [
    "df_scores['time'] = df_scores['ts'].apply(lambda x: pd.to_datetime(x, unit='s'))\n",
    "df_scores[df_scores['day'] == '5'].sort_values(['time'])"
   ]
  },
  {
   "cell_type": "code",
   "execution_count": null,
   "id": "8f2a5733-a00a-4751-bb47-d080e78c0b29",
   "metadata": {},
   "outputs": [],
   "source": [
    "# Calculate points\n",
    "df_scores[\"part_rank\"] = df_scores.groupby(['day', 'star'])[\"ts\"].rank(\"dense\", ascending=True).astype('int')\n",
    "df_scores[\"points\"] = df_scores['part_rank'].apply(lambda x: (member_count + 1) - x).astype('int')\n",
    "df_scores[df_scores['day'].isin(['4','5'])].sort_values(['time'], ascending=False)"
   ]
  }
 ],
 "metadata": {
  "kernelspec": {
   "display_name": "Python 3 (ipykernel)",
   "language": "python",
   "name": "python3"
  },
  "language_info": {
   "codemirror_mode": {
    "name": "ipython",
    "version": 3
   },
   "file_extension": ".py",
   "mimetype": "text/x-python",
   "name": "python",
   "nbconvert_exporter": "python",
   "pygments_lexer": "ipython3",
   "version": "3.8.10"
  }
 },
 "nbformat": 4,
 "nbformat_minor": 5
}
